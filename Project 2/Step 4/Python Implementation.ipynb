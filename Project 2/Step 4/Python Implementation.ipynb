{
 "cells": [
  {
   "cell_type": "markdown",
   "id": "10415f4f",
   "metadata": {},
   "source": [
    "# McDonald's Market Segmentation"
   ]
  },
  {
   "cell_type": "markdown",
   "id": "c64c1bc2",
   "metadata": {},
   "source": [
    "## Import required libraries"
   ]
  },
  {
   "cell_type": "code",
   "execution_count": 1,
   "id": "73b9cbec-46ff-408c-ae14-295cf68e6ff5",
   "metadata": {},
   "outputs": [],
   "source": [
    "import pandas as pd\n",
    "import numpy as np\n",
    "from sklearn.decomposition import PCA\n",
    "from matplotlib import pyplot as plt"
   ]
  },
  {
   "cell_type": "markdown",
   "id": "f8aa75da",
   "metadata": {},
   "source": [
    "## Read the CSV to form dataframe"
   ]
  },
  {
   "cell_type": "code",
   "execution_count": 2,
   "id": "28d54977-53a3-4a26-b74c-c870f24ef25c",
   "metadata": {},
   "outputs": [],
   "source": [
    "df = pd.read_csv('../mcdonalds.csv')"
   ]
  },
  {
   "cell_type": "markdown",
   "id": "de007c1f",
   "metadata": {},
   "source": [
    "## Initial Looks on the data"
   ]
  },
  {
   "cell_type": "code",
   "execution_count": 3,
   "id": "3238fe7c-6df5-4551-9730-76e8f21b4b88",
   "metadata": {},
   "outputs": [
    {
     "data": {
      "text/html": [
       "<div>\n",
       "<style scoped>\n",
       "    .dataframe tbody tr th:only-of-type {\n",
       "        vertical-align: middle;\n",
       "    }\n",
       "\n",
       "    .dataframe tbody tr th {\n",
       "        vertical-align: top;\n",
       "    }\n",
       "\n",
       "    .dataframe thead th {\n",
       "        text-align: right;\n",
       "    }\n",
       "</style>\n",
       "<table border=\"1\" class=\"dataframe\">\n",
       "  <thead>\n",
       "    <tr style=\"text-align: right;\">\n",
       "      <th></th>\n",
       "      <th>yummy</th>\n",
       "      <th>convenient</th>\n",
       "      <th>spicy</th>\n",
       "      <th>fattening</th>\n",
       "      <th>greasy</th>\n",
       "      <th>fast</th>\n",
       "      <th>cheap</th>\n",
       "      <th>tasty</th>\n",
       "      <th>expensive</th>\n",
       "      <th>healthy</th>\n",
       "      <th>disgusting</th>\n",
       "      <th>Like</th>\n",
       "      <th>Age</th>\n",
       "      <th>VisitFrequency</th>\n",
       "      <th>Gender</th>\n",
       "    </tr>\n",
       "  </thead>\n",
       "  <tbody>\n",
       "    <tr>\n",
       "      <th>0</th>\n",
       "      <td>No</td>\n",
       "      <td>Yes</td>\n",
       "      <td>No</td>\n",
       "      <td>Yes</td>\n",
       "      <td>No</td>\n",
       "      <td>Yes</td>\n",
       "      <td>Yes</td>\n",
       "      <td>No</td>\n",
       "      <td>Yes</td>\n",
       "      <td>No</td>\n",
       "      <td>No</td>\n",
       "      <td>-3</td>\n",
       "      <td>61</td>\n",
       "      <td>Every three months</td>\n",
       "      <td>Female</td>\n",
       "    </tr>\n",
       "    <tr>\n",
       "      <th>1</th>\n",
       "      <td>Yes</td>\n",
       "      <td>Yes</td>\n",
       "      <td>No</td>\n",
       "      <td>Yes</td>\n",
       "      <td>Yes</td>\n",
       "      <td>Yes</td>\n",
       "      <td>Yes</td>\n",
       "      <td>Yes</td>\n",
       "      <td>Yes</td>\n",
       "      <td>No</td>\n",
       "      <td>No</td>\n",
       "      <td>+2</td>\n",
       "      <td>51</td>\n",
       "      <td>Every three months</td>\n",
       "      <td>Female</td>\n",
       "    </tr>\n",
       "    <tr>\n",
       "      <th>2</th>\n",
       "      <td>No</td>\n",
       "      <td>Yes</td>\n",
       "      <td>Yes</td>\n",
       "      <td>Yes</td>\n",
       "      <td>Yes</td>\n",
       "      <td>Yes</td>\n",
       "      <td>No</td>\n",
       "      <td>Yes</td>\n",
       "      <td>Yes</td>\n",
       "      <td>Yes</td>\n",
       "      <td>No</td>\n",
       "      <td>+1</td>\n",
       "      <td>62</td>\n",
       "      <td>Every three months</td>\n",
       "      <td>Female</td>\n",
       "    </tr>\n",
       "    <tr>\n",
       "      <th>3</th>\n",
       "      <td>Yes</td>\n",
       "      <td>Yes</td>\n",
       "      <td>No</td>\n",
       "      <td>Yes</td>\n",
       "      <td>Yes</td>\n",
       "      <td>Yes</td>\n",
       "      <td>Yes</td>\n",
       "      <td>Yes</td>\n",
       "      <td>No</td>\n",
       "      <td>No</td>\n",
       "      <td>Yes</td>\n",
       "      <td>+4</td>\n",
       "      <td>69</td>\n",
       "      <td>Once a week</td>\n",
       "      <td>Female</td>\n",
       "    </tr>\n",
       "    <tr>\n",
       "      <th>4</th>\n",
       "      <td>No</td>\n",
       "      <td>Yes</td>\n",
       "      <td>No</td>\n",
       "      <td>Yes</td>\n",
       "      <td>Yes</td>\n",
       "      <td>Yes</td>\n",
       "      <td>Yes</td>\n",
       "      <td>No</td>\n",
       "      <td>No</td>\n",
       "      <td>Yes</td>\n",
       "      <td>No</td>\n",
       "      <td>+2</td>\n",
       "      <td>49</td>\n",
       "      <td>Once a month</td>\n",
       "      <td>Male</td>\n",
       "    </tr>\n",
       "  </tbody>\n",
       "</table>\n",
       "</div>"
      ],
      "text/plain": [
       "  yummy convenient spicy fattening greasy fast cheap tasty expensive healthy  \\\n",
       "0    No        Yes    No       Yes     No  Yes   Yes    No       Yes      No   \n",
       "1   Yes        Yes    No       Yes    Yes  Yes   Yes   Yes       Yes      No   \n",
       "2    No        Yes   Yes       Yes    Yes  Yes    No   Yes       Yes     Yes   \n",
       "3   Yes        Yes    No       Yes    Yes  Yes   Yes   Yes        No      No   \n",
       "4    No        Yes    No       Yes    Yes  Yes   Yes    No        No     Yes   \n",
       "\n",
       "  disgusting Like  Age      VisitFrequency  Gender  \n",
       "0         No   -3   61  Every three months  Female  \n",
       "1         No   +2   51  Every three months  Female  \n",
       "2         No   +1   62  Every three months  Female  \n",
       "3        Yes   +4   69         Once a week  Female  \n",
       "4         No   +2   49        Once a month    Male  "
      ]
     },
     "execution_count": 3,
     "metadata": {},
     "output_type": "execute_result"
    }
   ],
   "source": [
    "df.head()"
   ]
  },
  {
   "cell_type": "code",
   "execution_count": 4,
   "id": "663b2c19",
   "metadata": {},
   "outputs": [
    {
     "name": "stdout",
     "output_type": "stream",
     "text": [
      "Columns of the dataset: ['yummy', 'convenient', 'spicy', 'fattening', 'greasy', 'fast', 'cheap', 'tasty', 'expensive', 'healthy', 'disgusting', 'Like', 'Age', 'VisitFrequency', 'Gender']\n"
     ]
    }
   ],
   "source": [
    "print(f'Columns of the dataset: {df.columns.tolist()}')"
   ]
  },
  {
   "cell_type": "markdown",
   "id": "4d6ea7f0",
   "metadata": {},
   "source": [
    "## Initial Conclusions"
   ]
  },
  {
   "cell_type": "markdown",
   "id": "191313e9-30c5-4f04-b865-ec2b2d5fbe2f",
   "metadata": {},
   "source": [
    "As we can observe from the first line of the dataset, that the first respondent does not feel that McDonald's food is\n",
    "- yummy\n",
    "- spicy\n",
    "- greasy\n",
    "- tasty\n",
    "- healthy\n",
    "- disgusting\n",
    "\n",
    "The same respondent has given a rating of -3 to McDonald's, showing dislike for the same.\n",
    "The respondent is a 61 year old female who visits McDonald's once every three months."
   ]
  },
  {
   "cell_type": "markdown",
   "id": "b8695faf-6f1c-43e3-9be5-685eb6513599",
   "metadata": {},
   "source": [
    "A quick look at the dataset shows that the perception is not numerical but verbal.\n",
    "This means it is cded using the words: `YES` and `NO`.\n",
    "This is not suitable for segment extraction."
   ]
  },
  {
   "cell_type": "markdown",
   "id": "db8f69a9-5183-4f76-bb0f-d6ef0c5b6482",
   "metadata": {},
   "source": [
    "## Further Checking"
   ]
  },
  {
   "cell_type": "code",
   "execution_count": 5,
   "id": "089e76c7-304a-470b-a5b3-fa01d8a8a383",
   "metadata": {},
   "outputs": [
    {
     "data": {
      "text/plain": [
       "yummy         0.55\n",
       "convenient    0.91\n",
       "spicy         0.09\n",
       "fattening     0.87\n",
       "greasy        0.53\n",
       "fast          0.90\n",
       "cheap         0.60\n",
       "tasty         0.64\n",
       "expensive     0.36\n",
       "healthy       0.20\n",
       "disgusting    0.24\n",
       "dtype: float64"
      ]
     },
     "execution_count": 5,
     "metadata": {},
     "output_type": "execute_result"
    }
   ],
   "source": [
    "MD_x_binary = (df.iloc[:, 0:11] == \"Yes\").astype(int)\n",
    "MD_x_binary.mean().round(2)"
   ]
  },
  {
   "cell_type": "markdown",
   "id": "62732bac-3795-4a41-806c-ded6c407e862",
   "metadata": {},
   "source": [
    "## New Conclusions"
   ]
  },
  {
   "cell_type": "markdown",
   "id": "03c36903-d9ab-440f-ba33-fbd990eb93c3",
   "metadata": {},
   "source": [
    "The averages of the numeric segmentation show that about half the respondents, about 55% to be specific, percieve McDonald's to be YUMMY.<br>\n",
    "While a strong 91% believe that eating at McDonald's is CONVENIENT and a meagre 9% feel like the food at McDonald's to be SPICY."
   ]
  },
  {
   "cell_type": "markdown",
   "id": "3e87889e-3feb-43fc-83fa-e7e389b6f578",
   "metadata": {},
   "source": [
    "## Exploratory Perceptual Mapping via Principal Components Analysis"
   ]
  },
  {
   "cell_type": "markdown",
   "id": "247ae4f1-4da8-4013-8f09-787451af8570",
   "metadata": {},
   "source": [
    "Another approach to initial data exploration is to perform a principal components analysis (PCA) and generate a perceptual map. The perceptual map provides initial insights into how respondents rate different attributes and highlights which attributes tend to be rated similarly.\r\n",
    "\r\n",
    "> **Note:** In this instance, PCA is not used for reducing the number of variables. Instead, we calculate the principal components to serve as a basis for rotating and projecting the data onto the perceptual map. This approach—also known as factor-cluster analysis—is generally considered inferior to clustering raw data in most cases (Dolnicar and Grün 2008).\r\n",
    "\r\n",
    "Since our segmentation variables are binary, we work with unstandardised data for this analysis.\r\n"
   ]
  },
  {
   "cell_type": "code",
   "execution_count": 6,
   "id": "f7838b6b-7e6a-433c-b36f-135ffd8046c4",
   "metadata": {},
   "outputs": [
    {
     "data": {
      "text/html": [
       "<style>#sk-container-id-1 {\n",
       "  /* Definition of color scheme common for light and dark mode */\n",
       "  --sklearn-color-text: black;\n",
       "  --sklearn-color-line: gray;\n",
       "  /* Definition of color scheme for unfitted estimators */\n",
       "  --sklearn-color-unfitted-level-0: #fff5e6;\n",
       "  --sklearn-color-unfitted-level-1: #f6e4d2;\n",
       "  --sklearn-color-unfitted-level-2: #ffe0b3;\n",
       "  --sklearn-color-unfitted-level-3: chocolate;\n",
       "  /* Definition of color scheme for fitted estimators */\n",
       "  --sklearn-color-fitted-level-0: #f0f8ff;\n",
       "  --sklearn-color-fitted-level-1: #d4ebff;\n",
       "  --sklearn-color-fitted-level-2: #b3dbfd;\n",
       "  --sklearn-color-fitted-level-3: cornflowerblue;\n",
       "\n",
       "  /* Specific color for light theme */\n",
       "  --sklearn-color-text-on-default-background: var(--sg-text-color, var(--theme-code-foreground, var(--jp-content-font-color1, black)));\n",
       "  --sklearn-color-background: var(--sg-background-color, var(--theme-background, var(--jp-layout-color0, white)));\n",
       "  --sklearn-color-border-box: var(--sg-text-color, var(--theme-code-foreground, var(--jp-content-font-color1, black)));\n",
       "  --sklearn-color-icon: #696969;\n",
       "\n",
       "  @media (prefers-color-scheme: dark) {\n",
       "    /* Redefinition of color scheme for dark theme */\n",
       "    --sklearn-color-text-on-default-background: var(--sg-text-color, var(--theme-code-foreground, var(--jp-content-font-color1, white)));\n",
       "    --sklearn-color-background: var(--sg-background-color, var(--theme-background, var(--jp-layout-color0, #111)));\n",
       "    --sklearn-color-border-box: var(--sg-text-color, var(--theme-code-foreground, var(--jp-content-font-color1, white)));\n",
       "    --sklearn-color-icon: #878787;\n",
       "  }\n",
       "}\n",
       "\n",
       "#sk-container-id-1 {\n",
       "  color: var(--sklearn-color-text);\n",
       "}\n",
       "\n",
       "#sk-container-id-1 pre {\n",
       "  padding: 0;\n",
       "}\n",
       "\n",
       "#sk-container-id-1 input.sk-hidden--visually {\n",
       "  border: 0;\n",
       "  clip: rect(1px 1px 1px 1px);\n",
       "  clip: rect(1px, 1px, 1px, 1px);\n",
       "  height: 1px;\n",
       "  margin: -1px;\n",
       "  overflow: hidden;\n",
       "  padding: 0;\n",
       "  position: absolute;\n",
       "  width: 1px;\n",
       "}\n",
       "\n",
       "#sk-container-id-1 div.sk-dashed-wrapped {\n",
       "  border: 1px dashed var(--sklearn-color-line);\n",
       "  margin: 0 0.4em 0.5em 0.4em;\n",
       "  box-sizing: border-box;\n",
       "  padding-bottom: 0.4em;\n",
       "  background-color: var(--sklearn-color-background);\n",
       "}\n",
       "\n",
       "#sk-container-id-1 div.sk-container {\n",
       "  /* jupyter's `normalize.less` sets `[hidden] { display: none; }`\n",
       "     but bootstrap.min.css set `[hidden] { display: none !important; }`\n",
       "     so we also need the `!important` here to be able to override the\n",
       "     default hidden behavior on the sphinx rendered scikit-learn.org.\n",
       "     See: https://github.com/scikit-learn/scikit-learn/issues/21755 */\n",
       "  display: inline-block !important;\n",
       "  position: relative;\n",
       "}\n",
       "\n",
       "#sk-container-id-1 div.sk-text-repr-fallback {\n",
       "  display: none;\n",
       "}\n",
       "\n",
       "div.sk-parallel-item,\n",
       "div.sk-serial,\n",
       "div.sk-item {\n",
       "  /* draw centered vertical line to link estimators */\n",
       "  background-image: linear-gradient(var(--sklearn-color-text-on-default-background), var(--sklearn-color-text-on-default-background));\n",
       "  background-size: 2px 100%;\n",
       "  background-repeat: no-repeat;\n",
       "  background-position: center center;\n",
       "}\n",
       "\n",
       "/* Parallel-specific style estimator block */\n",
       "\n",
       "#sk-container-id-1 div.sk-parallel-item::after {\n",
       "  content: \"\";\n",
       "  width: 100%;\n",
       "  border-bottom: 2px solid var(--sklearn-color-text-on-default-background);\n",
       "  flex-grow: 1;\n",
       "}\n",
       "\n",
       "#sk-container-id-1 div.sk-parallel {\n",
       "  display: flex;\n",
       "  align-items: stretch;\n",
       "  justify-content: center;\n",
       "  background-color: var(--sklearn-color-background);\n",
       "  position: relative;\n",
       "}\n",
       "\n",
       "#sk-container-id-1 div.sk-parallel-item {\n",
       "  display: flex;\n",
       "  flex-direction: column;\n",
       "}\n",
       "\n",
       "#sk-container-id-1 div.sk-parallel-item:first-child::after {\n",
       "  align-self: flex-end;\n",
       "  width: 50%;\n",
       "}\n",
       "\n",
       "#sk-container-id-1 div.sk-parallel-item:last-child::after {\n",
       "  align-self: flex-start;\n",
       "  width: 50%;\n",
       "}\n",
       "\n",
       "#sk-container-id-1 div.sk-parallel-item:only-child::after {\n",
       "  width: 0;\n",
       "}\n",
       "\n",
       "/* Serial-specific style estimator block */\n",
       "\n",
       "#sk-container-id-1 div.sk-serial {\n",
       "  display: flex;\n",
       "  flex-direction: column;\n",
       "  align-items: center;\n",
       "  background-color: var(--sklearn-color-background);\n",
       "  padding-right: 1em;\n",
       "  padding-left: 1em;\n",
       "}\n",
       "\n",
       "\n",
       "/* Toggleable style: style used for estimator/Pipeline/ColumnTransformer box that is\n",
       "clickable and can be expanded/collapsed.\n",
       "- Pipeline and ColumnTransformer use this feature and define the default style\n",
       "- Estimators will overwrite some part of the style using the `sk-estimator` class\n",
       "*/\n",
       "\n",
       "/* Pipeline and ColumnTransformer style (default) */\n",
       "\n",
       "#sk-container-id-1 div.sk-toggleable {\n",
       "  /* Default theme specific background. It is overwritten whether we have a\n",
       "  specific estimator or a Pipeline/ColumnTransformer */\n",
       "  background-color: var(--sklearn-color-background);\n",
       "}\n",
       "\n",
       "/* Toggleable label */\n",
       "#sk-container-id-1 label.sk-toggleable__label {\n",
       "  cursor: pointer;\n",
       "  display: block;\n",
       "  width: 100%;\n",
       "  margin-bottom: 0;\n",
       "  padding: 0.5em;\n",
       "  box-sizing: border-box;\n",
       "  text-align: center;\n",
       "}\n",
       "\n",
       "#sk-container-id-1 label.sk-toggleable__label-arrow:before {\n",
       "  /* Arrow on the left of the label */\n",
       "  content: \"▸\";\n",
       "  float: left;\n",
       "  margin-right: 0.25em;\n",
       "  color: var(--sklearn-color-icon);\n",
       "}\n",
       "\n",
       "#sk-container-id-1 label.sk-toggleable__label-arrow:hover:before {\n",
       "  color: var(--sklearn-color-text);\n",
       "}\n",
       "\n",
       "/* Toggleable content - dropdown */\n",
       "\n",
       "#sk-container-id-1 div.sk-toggleable__content {\n",
       "  max-height: 0;\n",
       "  max-width: 0;\n",
       "  overflow: hidden;\n",
       "  text-align: left;\n",
       "  /* unfitted */\n",
       "  background-color: var(--sklearn-color-unfitted-level-0);\n",
       "}\n",
       "\n",
       "#sk-container-id-1 div.sk-toggleable__content.fitted {\n",
       "  /* fitted */\n",
       "  background-color: var(--sklearn-color-fitted-level-0);\n",
       "}\n",
       "\n",
       "#sk-container-id-1 div.sk-toggleable__content pre {\n",
       "  margin: 0.2em;\n",
       "  border-radius: 0.25em;\n",
       "  color: var(--sklearn-color-text);\n",
       "  /* unfitted */\n",
       "  background-color: var(--sklearn-color-unfitted-level-0);\n",
       "}\n",
       "\n",
       "#sk-container-id-1 div.sk-toggleable__content.fitted pre {\n",
       "  /* unfitted */\n",
       "  background-color: var(--sklearn-color-fitted-level-0);\n",
       "}\n",
       "\n",
       "#sk-container-id-1 input.sk-toggleable__control:checked~div.sk-toggleable__content {\n",
       "  /* Expand drop-down */\n",
       "  max-height: 200px;\n",
       "  max-width: 100%;\n",
       "  overflow: auto;\n",
       "}\n",
       "\n",
       "#sk-container-id-1 input.sk-toggleable__control:checked~label.sk-toggleable__label-arrow:before {\n",
       "  content: \"▾\";\n",
       "}\n",
       "\n",
       "/* Pipeline/ColumnTransformer-specific style */\n",
       "\n",
       "#sk-container-id-1 div.sk-label input.sk-toggleable__control:checked~label.sk-toggleable__label {\n",
       "  color: var(--sklearn-color-text);\n",
       "  background-color: var(--sklearn-color-unfitted-level-2);\n",
       "}\n",
       "\n",
       "#sk-container-id-1 div.sk-label.fitted input.sk-toggleable__control:checked~label.sk-toggleable__label {\n",
       "  background-color: var(--sklearn-color-fitted-level-2);\n",
       "}\n",
       "\n",
       "/* Estimator-specific style */\n",
       "\n",
       "/* Colorize estimator box */\n",
       "#sk-container-id-1 div.sk-estimator input.sk-toggleable__control:checked~label.sk-toggleable__label {\n",
       "  /* unfitted */\n",
       "  background-color: var(--sklearn-color-unfitted-level-2);\n",
       "}\n",
       "\n",
       "#sk-container-id-1 div.sk-estimator.fitted input.sk-toggleable__control:checked~label.sk-toggleable__label {\n",
       "  /* fitted */\n",
       "  background-color: var(--sklearn-color-fitted-level-2);\n",
       "}\n",
       "\n",
       "#sk-container-id-1 div.sk-label label.sk-toggleable__label,\n",
       "#sk-container-id-1 div.sk-label label {\n",
       "  /* The background is the default theme color */\n",
       "  color: var(--sklearn-color-text-on-default-background);\n",
       "}\n",
       "\n",
       "/* On hover, darken the color of the background */\n",
       "#sk-container-id-1 div.sk-label:hover label.sk-toggleable__label {\n",
       "  color: var(--sklearn-color-text);\n",
       "  background-color: var(--sklearn-color-unfitted-level-2);\n",
       "}\n",
       "\n",
       "/* Label box, darken color on hover, fitted */\n",
       "#sk-container-id-1 div.sk-label.fitted:hover label.sk-toggleable__label.fitted {\n",
       "  color: var(--sklearn-color-text);\n",
       "  background-color: var(--sklearn-color-fitted-level-2);\n",
       "}\n",
       "\n",
       "/* Estimator label */\n",
       "\n",
       "#sk-container-id-1 div.sk-label label {\n",
       "  font-family: monospace;\n",
       "  font-weight: bold;\n",
       "  display: inline-block;\n",
       "  line-height: 1.2em;\n",
       "}\n",
       "\n",
       "#sk-container-id-1 div.sk-label-container {\n",
       "  text-align: center;\n",
       "}\n",
       "\n",
       "/* Estimator-specific */\n",
       "#sk-container-id-1 div.sk-estimator {\n",
       "  font-family: monospace;\n",
       "  border: 1px dotted var(--sklearn-color-border-box);\n",
       "  border-radius: 0.25em;\n",
       "  box-sizing: border-box;\n",
       "  margin-bottom: 0.5em;\n",
       "  /* unfitted */\n",
       "  background-color: var(--sklearn-color-unfitted-level-0);\n",
       "}\n",
       "\n",
       "#sk-container-id-1 div.sk-estimator.fitted {\n",
       "  /* fitted */\n",
       "  background-color: var(--sklearn-color-fitted-level-0);\n",
       "}\n",
       "\n",
       "/* on hover */\n",
       "#sk-container-id-1 div.sk-estimator:hover {\n",
       "  /* unfitted */\n",
       "  background-color: var(--sklearn-color-unfitted-level-2);\n",
       "}\n",
       "\n",
       "#sk-container-id-1 div.sk-estimator.fitted:hover {\n",
       "  /* fitted */\n",
       "  background-color: var(--sklearn-color-fitted-level-2);\n",
       "}\n",
       "\n",
       "/* Specification for estimator info (e.g. \"i\" and \"?\") */\n",
       "\n",
       "/* Common style for \"i\" and \"?\" */\n",
       "\n",
       ".sk-estimator-doc-link,\n",
       "a:link.sk-estimator-doc-link,\n",
       "a:visited.sk-estimator-doc-link {\n",
       "  float: right;\n",
       "  font-size: smaller;\n",
       "  line-height: 1em;\n",
       "  font-family: monospace;\n",
       "  background-color: var(--sklearn-color-background);\n",
       "  border-radius: 1em;\n",
       "  height: 1em;\n",
       "  width: 1em;\n",
       "  text-decoration: none !important;\n",
       "  margin-left: 1ex;\n",
       "  /* unfitted */\n",
       "  border: var(--sklearn-color-unfitted-level-1) 1pt solid;\n",
       "  color: var(--sklearn-color-unfitted-level-1);\n",
       "}\n",
       "\n",
       ".sk-estimator-doc-link.fitted,\n",
       "a:link.sk-estimator-doc-link.fitted,\n",
       "a:visited.sk-estimator-doc-link.fitted {\n",
       "  /* fitted */\n",
       "  border: var(--sklearn-color-fitted-level-1) 1pt solid;\n",
       "  color: var(--sklearn-color-fitted-level-1);\n",
       "}\n",
       "\n",
       "/* On hover */\n",
       "div.sk-estimator:hover .sk-estimator-doc-link:hover,\n",
       ".sk-estimator-doc-link:hover,\n",
       "div.sk-label-container:hover .sk-estimator-doc-link:hover,\n",
       ".sk-estimator-doc-link:hover {\n",
       "  /* unfitted */\n",
       "  background-color: var(--sklearn-color-unfitted-level-3);\n",
       "  color: var(--sklearn-color-background);\n",
       "  text-decoration: none;\n",
       "}\n",
       "\n",
       "div.sk-estimator.fitted:hover .sk-estimator-doc-link.fitted:hover,\n",
       ".sk-estimator-doc-link.fitted:hover,\n",
       "div.sk-label-container:hover .sk-estimator-doc-link.fitted:hover,\n",
       ".sk-estimator-doc-link.fitted:hover {\n",
       "  /* fitted */\n",
       "  background-color: var(--sklearn-color-fitted-level-3);\n",
       "  color: var(--sklearn-color-background);\n",
       "  text-decoration: none;\n",
       "}\n",
       "\n",
       "/* Span, style for the box shown on hovering the info icon */\n",
       ".sk-estimator-doc-link span {\n",
       "  display: none;\n",
       "  z-index: 9999;\n",
       "  position: relative;\n",
       "  font-weight: normal;\n",
       "  right: .2ex;\n",
       "  padding: .5ex;\n",
       "  margin: .5ex;\n",
       "  width: min-content;\n",
       "  min-width: 20ex;\n",
       "  max-width: 50ex;\n",
       "  color: var(--sklearn-color-text);\n",
       "  box-shadow: 2pt 2pt 4pt #999;\n",
       "  /* unfitted */\n",
       "  background: var(--sklearn-color-unfitted-level-0);\n",
       "  border: .5pt solid var(--sklearn-color-unfitted-level-3);\n",
       "}\n",
       "\n",
       ".sk-estimator-doc-link.fitted span {\n",
       "  /* fitted */\n",
       "  background: var(--sklearn-color-fitted-level-0);\n",
       "  border: var(--sklearn-color-fitted-level-3);\n",
       "}\n",
       "\n",
       ".sk-estimator-doc-link:hover span {\n",
       "  display: block;\n",
       "}\n",
       "\n",
       "/* \"?\"-specific style due to the `<a>` HTML tag */\n",
       "\n",
       "#sk-container-id-1 a.estimator_doc_link {\n",
       "  float: right;\n",
       "  font-size: 1rem;\n",
       "  line-height: 1em;\n",
       "  font-family: monospace;\n",
       "  background-color: var(--sklearn-color-background);\n",
       "  border-radius: 1rem;\n",
       "  height: 1rem;\n",
       "  width: 1rem;\n",
       "  text-decoration: none;\n",
       "  /* unfitted */\n",
       "  color: var(--sklearn-color-unfitted-level-1);\n",
       "  border: var(--sklearn-color-unfitted-level-1) 1pt solid;\n",
       "}\n",
       "\n",
       "#sk-container-id-1 a.estimator_doc_link.fitted {\n",
       "  /* fitted */\n",
       "  border: var(--sklearn-color-fitted-level-1) 1pt solid;\n",
       "  color: var(--sklearn-color-fitted-level-1);\n",
       "}\n",
       "\n",
       "/* On hover */\n",
       "#sk-container-id-1 a.estimator_doc_link:hover {\n",
       "  /* unfitted */\n",
       "  background-color: var(--sklearn-color-unfitted-level-3);\n",
       "  color: var(--sklearn-color-background);\n",
       "  text-decoration: none;\n",
       "}\n",
       "\n",
       "#sk-container-id-1 a.estimator_doc_link.fitted:hover {\n",
       "  /* fitted */\n",
       "  background-color: var(--sklearn-color-fitted-level-3);\n",
       "}\n",
       "</style><div id=\"sk-container-id-1\" class=\"sk-top-container\"><div class=\"sk-text-repr-fallback\"><pre>PCA()</pre><b>In a Jupyter environment, please rerun this cell to show the HTML representation or trust the notebook. <br />On GitHub, the HTML representation is unable to render, please try loading this page with nbviewer.org.</b></div><div class=\"sk-container\" hidden><div class=\"sk-item\"><div class=\"sk-estimator fitted sk-toggleable\"><input class=\"sk-toggleable__control sk-hidden--visually\" id=\"sk-estimator-id-1\" type=\"checkbox\" checked><label for=\"sk-estimator-id-1\" class=\"sk-toggleable__label fitted sk-toggleable__label-arrow fitted\">&nbsp;&nbsp;PCA<a class=\"sk-estimator-doc-link fitted\" rel=\"noreferrer\" target=\"_blank\" href=\"https://scikit-learn.org/1.4/modules/generated/sklearn.decomposition.PCA.html\">?<span>Documentation for PCA</span></a><span class=\"sk-estimator-doc-link fitted\">i<span>Fitted</span></span></label><div class=\"sk-toggleable__content fitted\"><pre>PCA()</pre></div> </div></div></div></div>"
      ],
      "text/plain": [
       "PCA()"
      ]
     },
     "execution_count": 6,
     "metadata": {},
     "output_type": "execute_result"
    }
   ],
   "source": [
    "pca = PCA()\n",
    "pca.fit(MD_x_binary)"
   ]
  },
  {
   "cell_type": "code",
   "execution_count": 7,
   "id": "77c8d1cb-f80c-4852-aea1-6f54790717f3",
   "metadata": {},
   "outputs": [],
   "source": [
    "std_devs = np.sqrt(pca.explained_variance_)\n",
    "prop_variance = pca.explained_variance_ratio_\n",
    "cumulative_variance = np.cumsum(prop_variance)"
   ]
  },
  {
   "cell_type": "code",
   "execution_count": 8,
   "id": "4b50a260-066e-4412-ae5a-eb70a5204571",
   "metadata": {},
   "outputs": [],
   "source": [
    "std_devs_rounded = np.round(std_devs, 2)\n",
    "prop_variance_rounded = np.round(prop_variance, 2)\n",
    "cumulative_variance_rounded = np.round(cumulative_variance, 2)"
   ]
  },
  {
   "cell_type": "code",
   "execution_count": 9,
   "id": "f5ca3003-d082-4329-9499-42100ffbba30",
   "metadata": {},
   "outputs": [
    {
     "name": "stdout",
     "output_type": "stream",
     "text": [
      "Standard Deviations:\n",
      "PC1: 0.76\n",
      "PC2: 0.61\n",
      "PC3: 0.5\n",
      "PC4: 0.4\n",
      "PC5: 0.34\n",
      "PC6: 0.31\n",
      "PC7: 0.29\n",
      "PC8: 0.28\n",
      "PC9: 0.27\n",
      "PC10: 0.25\n",
      "PC11: 0.24\n"
     ]
    }
   ],
   "source": [
    "print(\"Standard Deviations:\")\n",
    "for i, sd in enumerate(std_devs_rounded, start=1):\n",
    "    print(f\"PC{i}: {sd}\")"
   ]
  },
  {
   "cell_type": "code",
   "execution_count": 10,
   "id": "06b1d197-29a7-4c12-9a21-d152d3ab8c2e",
   "metadata": {},
   "outputs": [
    {
     "name": "stdout",
     "output_type": "stream",
     "text": [
      "\n",
      "Proportion of Variance:\n",
      "PC1: 0.3\n",
      "PC2: 0.19\n",
      "PC3: 0.13\n",
      "PC4: 0.08\n",
      "PC5: 0.06\n",
      "PC6: 0.05\n",
      "PC7: 0.04\n",
      "PC8: 0.04\n",
      "PC9: 0.04\n",
      "PC10: 0.03\n",
      "PC11: 0.03\n"
     ]
    }
   ],
   "source": [
    "print(\"\\nProportion of Variance:\")\n",
    "for i, pv in enumerate(prop_variance_rounded, start=1):\n",
    "    print(f\"PC{i}: {pv}\")"
   ]
  },
  {
   "cell_type": "code",
   "execution_count": 11,
   "id": "27e3e2f6-6bb4-40e7-8203-421aad056d02",
   "metadata": {},
   "outputs": [
    {
     "name": "stdout",
     "output_type": "stream",
     "text": [
      "\n",
      "Cumulative Proportion:\n",
      "PC1: 0.3\n",
      "PC2: 0.49\n",
      "PC3: 0.63\n",
      "PC4: 0.71\n",
      "PC5: 0.77\n",
      "PC6: 0.82\n",
      "PC7: 0.86\n",
      "PC8: 0.9\n",
      "PC9: 0.94\n",
      "PC10: 0.97\n",
      "PC11: 1.0\n"
     ]
    }
   ],
   "source": [
    "print(\"\\nCumulative Proportion:\")\n",
    "for i, cp in enumerate(cumulative_variance_rounded, start=1):\n",
    "    print(f\"PC{i}: {cp}\")"
   ]
  },
  {
   "cell_type": "markdown",
   "id": "81e3a70f-e25a-450c-80b6-5db05a03541d",
   "metadata": {},
   "source": [
    "## PCA related conclusions"
   ]
  },
  {
   "cell_type": "markdown",
   "id": "5e5b2238-dca3-4b9b-a777-81c7198fe34b",
   "metadata": {},
   "source": [
    "Results form PCA indicate that around half the data, 49% to be specific, could be derived from just the first 2 components."
   ]
  },
  {
   "cell_type": "markdown",
   "id": "6dea7c00-229a-4363-9746-e169dd5865e2",
   "metadata": {},
   "source": [
    "## Extract Loadings"
   ]
  },
  {
   "cell_type": "code",
   "execution_count": 12,
   "id": "2274001c-a30a-46af-8a38-b7ad7e55d020",
   "metadata": {},
   "outputs": [],
   "source": [
    "rotation_df = pd.DataFrame(\n",
    "    pca.components_.T,\n",
    "    index=MD_x_binary.columns,\n",
    "    columns=[f'PC{i+1}' for i in range(pca.n_components_)]\n",
    ")"
   ]
  },
  {
   "cell_type": "code",
   "execution_count": 13,
   "id": "02ba7899-575a-44ba-bcd7-2741c87db422",
   "metadata": {},
   "outputs": [
    {
     "name": "stdout",
     "output_type": "stream",
     "text": [
      "\n",
      "Rotation (n x k) = (11 x 11):\n",
      "             PC1   PC2   PC3   PC4   PC5   PC6   PC7   PC8   PC9  PC10  PC11\n",
      "yummy      -0.48  0.36 -0.30  0.06 -0.31  0.17 -0.28  0.01  0.57 -0.11  0.05\n",
      "convenient -0.16  0.02 -0.06 -0.14  0.28 -0.35 -0.06 -0.11 -0.02 -0.67 -0.54\n",
      "spicy      -0.01  0.02 -0.04  0.20  0.07 -0.36  0.71  0.38  0.40 -0.08  0.14\n",
      "fattening   0.12 -0.03 -0.32 -0.35 -0.07 -0.41 -0.39  0.59 -0.16 -0.01  0.25\n",
      "greasy      0.30 -0.06 -0.80  0.25  0.36  0.21  0.04 -0.14 -0.00  0.01  0.00\n",
      "fast       -0.11 -0.09 -0.06 -0.10  0.11 -0.59 -0.09 -0.63  0.17  0.24  0.34\n",
      "cheap      -0.34 -0.61 -0.15  0.12 -0.13 -0.10 -0.04  0.14  0.08  0.43 -0.49\n",
      "tasty      -0.47  0.31 -0.29 -0.00 -0.21 -0.08  0.36 -0.07 -0.64  0.08  0.02\n",
      "expensive   0.33  0.60  0.02  0.07 -0.00 -0.26 -0.07  0.03  0.07  0.45 -0.49\n",
      "healthy    -0.21  0.08  0.19  0.76  0.29 -0.18 -0.35  0.18 -0.19 -0.04  0.16\n",
      "disgusting  0.37 -0.14 -0.09  0.37 -0.73 -0.21 -0.03 -0.17 -0.07 -0.29 -0.04\n"
     ]
    }
   ],
   "source": [
    "print(\"\\nRotation (n x k) = (11 x 11):\")\n",
    "print(rotation_df.round(2))"
   ]
  },
  {
   "cell_type": "markdown",
   "id": "b78f65e8-b91e-4a22-99fc-79ec41c32049",
   "metadata": {},
   "source": [
    "Loadings indicate how the original variables combine to form prrinciple components."
   ]
  },
  {
   "cell_type": "markdown",
   "id": "1a9ba9dd-0d65-4241-b580-cd250f280c5c",
   "metadata": {},
   "source": [
    "In our dataset, the variables with the highest absolute loadings in PC2 are `CHEAP` and `EXPENSIVE`, indiciating that this principle component captures price dimension."
   ]
  },
  {
   "cell_type": "markdown",
   "id": "730b2f66-5fdd-4fe5-94a5-59222995f2e6",
   "metadata": {},
   "source": [
    "## PCA Biplot Visualization"
   ]
  },
  {
   "cell_type": "markdown",
   "id": "551fb819-10ed-45cc-a95e-6b15cbc7da95",
   "metadata": {},
   "source": [
    "This graph is a **Principal Component Analysis (PCA) biplot** that visualizes the main components of your dataset in a reduced two-dimensional space. Here’s what it represents:\n",
    "\n",
    "- **Grey Points:** These represent individual data observations projected onto the first two principal components (PC1 and PC2), highlighting the overall data distribution.\n",
    "- **Red Arrows:** These indicate the original variables’ loadings. The direction and length of each arrow show how strongly each variable influences PC1 and PC2. Variables with arrows pointing in similar directions are positively correlated, while those with opposite directions suggest negative correlation."
   ]
  },
  {
   "cell_type": "markdown",
   "id": "071e0bb5-c7b9-499e-b311-b4a3ac9b7b84",
   "metadata": {},
   "source": [
    "This visualization is particularly useful for:\n",
    "- Identifying clusters or groupings within the data.\n",
    "- Understanding which variables contribute most to data variability.\n",
    "- Detecting patterns, trends, or outliers in high-dimensional data."
   ]
  },
  {
   "cell_type": "code",
   "execution_count": 14,
   "id": "788e39cd-e713-43a6-8d24-2307f42a2381",
   "metadata": {},
   "outputs": [
    {
     "data": {
      "image/png": "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",
      "text/plain": [
       "<Figure size 800x600 with 1 Axes>"
      ]
     },
     "metadata": {},
     "output_type": "display_data"
    }
   ],
   "source": [
    "scores = pca.transform(MD_x_binary)\n",
    "plt.figure(figsize=(8, 6))\n",
    "plt.scatter(scores[:, 0], scores[:, 1], color='grey', alpha=0.7)\n",
    "plt.xlabel('PC1')\n",
    "plt.ylabel('PC2')\n",
    "plt.title('PCA Scores')\n",
    "loadings = pca.components_.T\n",
    "scale_factor = 3\n",
    "for i, feature in enumerate(MD_x_binary.columns):\n",
    "    plt.arrow(0, 0, loadings[i, 0]*scale_factor, loadings[i, 1]*scale_factor,\n",
    "              color='red', width=0.01, head_width=0.1, length_includes_head=True)\n",
    "    plt.text(loadings[i, 0]*scale_factor*1.15, loadings[i, 1]*scale_factor*1.15, feature,\n",
    "             color='red', ha='center', va='center', fontsize=9)\n",
    "plt.grid(True)\n",
    "plt.show()"
   ]
  },
  {
   "cell_type": "markdown",
   "id": "f6440ac7-b368-4134-8442-d0fca6dff15a",
   "metadata": {},
   "source": [
    "### Perceptual Map Insights"
   ]
  },
  {
   "cell_type": "markdown",
   "id": "75769af1-2e04-4754-8867-234c32f45b5a",
   "metadata": {},
   "source": [
    "#### Overview"
   ]
  },
  {
   "cell_type": "markdown",
   "id": "fb479342-e127-48a5-b14b-31f9e8e867b3",
   "metadata": {},
   "source": [
    "This perceptual map evaluates **McDonald’s** based on consumer perceptions across two dimensions:\r\n",
    "\r\n",
    "1. **Price Dimension:**\r\n",
    "   - **CHEAP** and **EXPENSIVE** play key roles in the evaluation.\r\n",
    "   - These attributes are assessed independently from the others.\r\n",
    "   - Consumers tend to cluster along this axis:\r\n",
    "     - A top group around **CHEAP**\r\n",
    "     - A bottom group around **EXPENSIVE**\r\n",
    "     - A middle group with moderate evaluations\r\n",
    "\r\n",
    "2. **Perception Dimension (Positive vs. Negative):**\r\n",
    "   - **Negative Attributes:**\r\n",
    "     - **FATTENING**\r\n",
    "     - **DISGUSTING**\r\n",
    "     - **GREASY**  \r\n",
    "       (Respondents who view McDonald’s as FATTENING and DISGUSTING are also likely to perceive it as GREASY.)\r\n",
    "   - **Positive Attributes:**\r\n",
    "     - **FAST**\r\n",
    "     - **CONVENIENT**\r\n",
    "     - **HEALTHY**\r\n",
    "     - **TASTY**\r\n",
    "     - **YUMMY**\r\n"
   ]
  },
  {
   "cell_type": "markdown",
   "id": "f2e1349d-0f2b-45af-a441-8cf52b632a95",
   "metadata": {},
   "source": [
    "#### Insights"
   ]
  },
  {
   "cell_type": "markdown",
   "id": "463bac38-f409-42b2-8973-54d505289e17",
   "metadata": {},
   "source": [
    "- **Correlation of Attributes:**  \n",
    "  The negative attributes (FATTENING, DISGUSTING, GREASY) tend to cluster together, while the positive attributes (FAST, CONVENIENT, HEALTHY, TASTY, YUMMY) align in the opposite direction.\n",
    "  \n",
    "- **Clustering along the Price Axis:**  \n",
    "  The observations on the EXPENSIVE versus CHEAP axis form distinct clusters:\n",
    "  - A group concentrated at **CHEAP**\n",
    "  - A group clustered at **EXPENSIVE**\n",
    "  - A middle group with intermediate perceptions\n",
    "\n",
    "- **Segmentation Potential:**  \n",
    "  The strong relationship between certain attributes, along with the clear price dimension, suggests that the pricing perception may be critical in differentiating consumer segments."
   ]
  },
  {
   "cell_type": "markdown",
   "id": "1afa884d-a07b-41c7-97c9-d87321c9a6ed",
   "metadata": {},
   "source": [
    "### Conclusion"
   ]
  },
  {
   "cell_type": "markdown",
   "id": "f3b3a266-f81a-4355-80f8-3f84cfdec75f",
   "metadata": {},
   "source": [
    "These exploratory insights provide valuable information for segment extraction. They indicate that:\r\n",
    "- Some attributes are strongly interrelated.\r\n",
    "- The price dimension is likely a key differentiator among consumer groups.\r\n",
   ]
  }
 ],
 "metadata": {
  "kernelspec": {
   "display_name": "Python 3 (ipykernel)",
   "language": "python",
   "name": "python3"
  },
  "language_info": {
   "codemirror_mode": {
    "name": "ipython",
    "version": 3
   },
   "file_extension": ".py",
   "mimetype": "text/x-python",
   "name": "python",
   "nbconvert_exporter": "python",
   "pygments_lexer": "ipython3",
   "version": "3.12.4"
  }
 },
 "nbformat": 4,
 "nbformat_minor": 5
}
